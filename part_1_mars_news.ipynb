{
 "cells": [
  {
   "cell_type": "markdown",
   "metadata": {},
   "source": [
    "# Module 11 Challenge\n",
    "## Deliverable 1: Scrape Titles and Preview Text from Mars News"
   ]
  },
  {
   "cell_type": "code",
   "execution_count": 26,
   "metadata": {},
   "outputs": [],
   "source": [
    "# Import Splinter and BeautifulSoup\n",
    "from splinter import Browser\n",
    "from bs4 import BeautifulSoup as soup\n",
    "import pandas as pd"
   ]
  },
  {
   "cell_type": "code",
   "execution_count": 2,
   "metadata": {
    "scrolled": true
   },
   "outputs": [],
   "source": [
    "browser = Browser('chrome')"
   ]
  },
  {
   "cell_type": "markdown",
   "metadata": {},
   "source": [
    "### Step 1: Visit the Website\n",
    "\n",
    "1. Use automated browsing to visit the [Mars news site](https://static.bc-edx.com/data/web/mars_news/index.html). Inspect the page to identify which elements to scrape.\n",
    "\n",
    "      > **Hint** To identify which elements to scrape, you might want to inspect the page by using Chrome DevTools."
   ]
  },
  {
   "cell_type": "code",
   "execution_count": 3,
   "metadata": {},
   "outputs": [],
   "source": [
    "# Visit the Mars news site: https://static.bc-edx.com/data/web/mars_news/index.html\n",
    "url = 'https://static.bc-edx.com/data/web/mars_news/index.html'\n",
    "browser.visit(url)\n"
   ]
  },
  {
   "cell_type": "markdown",
   "metadata": {},
   "source": [
    "### Step 2: Scrape the Website\n",
    "\n",
    "Create a Beautiful Soup object and use it to extract text elements from the website."
   ]
  },
  {
   "cell_type": "code",
   "execution_count": 5,
   "metadata": {},
   "outputs": [],
   "source": [
    "# Create a Beautiful Soup object\n",
    "html = browser.html\n",
    "html_soup = soup(html,'html.parser')"
   ]
  },
  {
   "cell_type": "code",
   "execution_count": 7,
   "metadata": {},
   "outputs": [],
   "source": [
    "# Extract all the text elements\n",
    "text_elements = html_soup.find_all('div',class_='list_text')"
   ]
  },
  {
   "cell_type": "code",
   "execution_count": 8,
   "metadata": {},
   "outputs": [
    {
     "data": {
      "text/plain": [
       "[<div class=\"list_text\">\n",
       " <div class=\"list_date\">November 9, 2022</div>\n",
       " <div class=\"content_title\">NASA's MAVEN Observes Martian Light Show Caused by Major Solar Storm</div>\n",
       " <div class=\"article_teaser_body\">For the first time in its eight years orbiting Mars, NASA’s MAVEN mission witnessed two different types of ultraviolet aurorae simultaneously, the result of solar storms that began on Aug. 27.</div>\n",
       " </div>,\n",
       " <div class=\"list_text\">\n",
       " <div class=\"list_date\">November 1, 2022</div>\n",
       " <div class=\"content_title\">NASA Prepares to Say 'Farewell' to InSight Spacecraft</div>\n",
       " <div class=\"article_teaser_body\">A closer look at what goes into wrapping up the mission as the spacecraft’s power supply continues to dwindle.</div>\n",
       " </div>,\n",
       " <div class=\"list_text\">\n",
       " <div class=\"list_date\">October 28, 2022</div>\n",
       " <div class=\"content_title\">NASA and ESA Agree on Next Steps to Return Mars Samples to Earth</div>\n",
       " <div class=\"article_teaser_body\">The agency’s Perseverance rover will establish the first sample depot on Mars.</div>\n",
       " </div>,\n",
       " <div class=\"list_text\">\n",
       " <div class=\"list_date\">October 27, 2022</div>\n",
       " <div class=\"content_title\">NASA's InSight Lander Detects Stunning Meteoroid Impact on Mars</div>\n",
       " <div class=\"article_teaser_body\">The agency’s lander felt the ground shake during the impact while cameras aboard the Mars Reconnaissance Orbiter spotted the yawning new crater from space.</div>\n",
       " </div>,\n",
       " <div class=\"list_text\">\n",
       " <div class=\"list_date\">October 21, 2022</div>\n",
       " <div class=\"content_title\">NASA To Host Briefing on InSight, Mars Reconnaissance Orbiter Findings</div>\n",
       " <div class=\"article_teaser_body\">Scientists from two Mars missions will discuss how they combined images and data for a major finding on the Red Planet.</div>\n",
       " </div>,\n",
       " <div class=\"list_text\">\n",
       " <div class=\"list_date\">October 20, 2022</div>\n",
       " <div class=\"content_title\">Why NASA Is Trying To Crash Land on Mars</div>\n",
       " <div class=\"article_teaser_body\">Like a car’s crumple zone, the experimental SHIELD lander is designed to absorb a hard impact.</div>\n",
       " </div>,\n",
       " <div class=\"list_text\">\n",
       " <div class=\"list_date\">October 19, 2022</div>\n",
       " <div class=\"content_title\">Curiosity Mars Rover Reaches Long-Awaited Salty Region</div>\n",
       " <div class=\"article_teaser_body\">After years of climbing, the Mars rover has arrived at a special region believed to have formed as Mars’ climate was drying.</div>\n",
       " </div>,\n",
       " <div class=\"list_text\">\n",
       " <div class=\"list_date\">October 12, 2022</div>\n",
       " <div class=\"content_title\">Mars Mission Shields Up for Tests</div>\n",
       " <div class=\"article_teaser_body\">Protecting Mars Sample Return spacecraft from micrometeorites requires high-caliber work.</div>\n",
       " </div>,\n",
       " <div class=\"list_text\">\n",
       " <div class=\"list_date\">October 7, 2022</div>\n",
       " <div class=\"content_title\">NASA's InSight Waits Out Dust Storm</div>\n",
       " <div class=\"article_teaser_body\">InSight’s team is taking steps to help the solar-powered lander continue operating for as long as possible.</div>\n",
       " </div>,\n",
       " <div class=\"list_text\">\n",
       " <div class=\"list_date\">September 19, 2022</div>\n",
       " <div class=\"content_title\">NASA's InSight 'Hears' Its First Meteoroid Impacts on Mars</div>\n",
       " <div class=\"article_teaser_body\">The Mars lander’s seismometer has picked up vibrations from four separate impacts in the past two years.</div>\n",
       " </div>,\n",
       " <div class=\"list_text\">\n",
       " <div class=\"list_date\">September 15, 2022</div>\n",
       " <div class=\"content_title\">NASA's Perseverance Rover Investigates Geologically Rich Mars Terrain</div>\n",
       " <div class=\"article_teaser_body\">The latest findings provide greater detail on a region of the Red Planet that has a watery past and is yielding promising samples for the NASA-ESA Mars Sample Return campaign.</div>\n",
       " </div>,\n",
       " <div class=\"list_text\">\n",
       " <div class=\"list_date\">September 12, 2022</div>\n",
       " <div class=\"content_title\">NASA to Host Briefing on Perseverance Mars Rover Mission Operations</div>\n",
       " <div class=\"article_teaser_body\">Members of the mission will discuss the rover’s activities as it gathers samples in an ancient river delta.</div>\n",
       " </div>,\n",
       " <div class=\"list_text\">\n",
       " <div class=\"list_date\">August 25, 2022</div>\n",
       " <div class=\"content_title\">NASA's Perseverance Makes New Discoveries in Mars' Jezero Crater</div>\n",
       " <div class=\"article_teaser_body\">The rover found that Jezero Crater’s floor is made up of volcanic rocks that have interacted with water.</div>\n",
       " </div>,\n",
       " <div class=\"list_text\">\n",
       " <div class=\"list_date\">August 5, 2022</div>\n",
       " <div class=\"content_title\">10 Years Since Landing, NASA's Curiosity Mars Rover Still Has Drive</div>\n",
       " <div class=\"article_teaser_body\">Despite signs of wear, the intrepid spacecraft is about to start an exciting new chapter of its mission as it climbs a Martian mountain.</div>\n",
       " </div>,\n",
       " <div class=\"list_text\">\n",
       " <div class=\"list_date\">August 4, 2022</div>\n",
       " <div class=\"content_title\">SAM's Top 5 Discoveries Aboard NASA's Curiosity Rover at Mars</div>\n",
       " <div class=\"article_teaser_body\">“Selfie” of the Curiosity rover with inset showing the SAM instrument prior to installation on the rover.</div>\n",
       " </div>]"
      ]
     },
     "execution_count": 8,
     "metadata": {},
     "output_type": "execute_result"
    }
   ],
   "source": [
    "# Preview for reference\n",
    "text_elements"
   ]
  },
  {
   "cell_type": "markdown",
   "metadata": {},
   "source": [
    "### Step 3: Store the Results\n",
    "\n",
    "Extract the titles and preview text of the news articles that you scraped. Store the scraping results in Python data structures as follows:\n",
    "\n",
    "* Store each title-and-preview pair in a Python dictionary. And, give each dictionary two keys: `title` and `preview`. An example is the following:\n",
    "\n",
    "  ```python\n",
    "  {'title': \"NASA's MAVEN Observes Martian Light Show Caused by Major Solar Storm\", \n",
    "   'preview': \"For the first time in its eight years orbiting Mars, NASA’s MAVEN mission witnessed two different types of ultraviolet aurorae simultaneously, the result of solar storms that began on Aug. 27.\"\n",
    "  }\n",
    "  ```\n",
    "\n",
    "* Store all the dictionaries in a Python list.\n",
    "\n",
    "* Print the list in your notebook."
   ]
  },
  {
   "cell_type": "code",
   "execution_count": 13,
   "metadata": {},
   "outputs": [],
   "source": [
    "# Create an empty list to store the dictionaries\n",
    "news_list = []"
   ]
  },
  {
   "cell_type": "code",
   "execution_count": 38,
   "metadata": {},
   "outputs": [
    {
     "data": {
      "text/html": [
       "<div>\n",
       "<style scoped>\n",
       "    .dataframe tbody tr th:only-of-type {\n",
       "        vertical-align: middle;\n",
       "    }\n",
       "\n",
       "    .dataframe tbody tr th {\n",
       "        vertical-align: top;\n",
       "    }\n",
       "\n",
       "    .dataframe thead th {\n",
       "        text-align: right;\n",
       "    }\n",
       "</style>\n",
       "<table border=\"1\" class=\"dataframe\">\n",
       "  <thead>\n",
       "    <tr style=\"text-align: right;\">\n",
       "      <th></th>\n",
       "      <th>title</th>\n",
       "      <th>teaser</th>\n",
       "    </tr>\n",
       "  </thead>\n",
       "  <tbody>\n",
       "    <tr>\n",
       "      <th>0</th>\n",
       "      <td>[[NASA's MAVEN Observes Martian Light Show Cau...</td>\n",
       "      <td>[[For the first time in its eight years orbiti...</td>\n",
       "    </tr>\n",
       "    <tr>\n",
       "      <th>1</th>\n",
       "      <td>[[NASA Prepares to Say 'Farewell' to InSight S...</td>\n",
       "      <td>[[A closer look at what goes into wrapping up ...</td>\n",
       "    </tr>\n",
       "    <tr>\n",
       "      <th>2</th>\n",
       "      <td>[[NASA and ESA Agree on Next Steps to Return M...</td>\n",
       "      <td>[[The agency’s Perseverance rover will establi...</td>\n",
       "    </tr>\n",
       "    <tr>\n",
       "      <th>3</th>\n",
       "      <td>[[NASA's InSight Lander Detects Stunning Meteo...</td>\n",
       "      <td>[[The agency’s lander felt the ground shake du...</td>\n",
       "    </tr>\n",
       "    <tr>\n",
       "      <th>4</th>\n",
       "      <td>[[NASA To Host Briefing on InSight, Mars Recon...</td>\n",
       "      <td>[[Scientists from two Mars missions will discu...</td>\n",
       "    </tr>\n",
       "    <tr>\n",
       "      <th>...</th>\n",
       "      <td>...</td>\n",
       "      <td>...</td>\n",
       "    </tr>\n",
       "    <tr>\n",
       "      <th>100</th>\n",
       "      <td>NASA's Perseverance Rover Investigates Geologi...</td>\n",
       "      <td>The latest findings provide greater detail on ...</td>\n",
       "    </tr>\n",
       "    <tr>\n",
       "      <th>101</th>\n",
       "      <td>NASA to Host Briefing on Perseverance Mars Rov...</td>\n",
       "      <td>Members of the mission will discuss the rover’...</td>\n",
       "    </tr>\n",
       "    <tr>\n",
       "      <th>102</th>\n",
       "      <td>NASA's Perseverance Makes New Discoveries in M...</td>\n",
       "      <td>The rover found that Jezero Crater’s floor is ...</td>\n",
       "    </tr>\n",
       "    <tr>\n",
       "      <th>103</th>\n",
       "      <td>10 Years Since Landing, NASA's Curiosity Mars ...</td>\n",
       "      <td>Despite signs of wear, the intrepid spacecraft...</td>\n",
       "    </tr>\n",
       "    <tr>\n",
       "      <th>104</th>\n",
       "      <td>SAM's Top 5 Discoveries Aboard NASA's Curiosit...</td>\n",
       "      <td>“Selfie” of the Curiosity rover with inset sho...</td>\n",
       "    </tr>\n",
       "  </tbody>\n",
       "</table>\n",
       "<p>105 rows × 2 columns</p>\n",
       "</div>"
      ],
      "text/plain": [
       "                                                 title  \\\n",
       "0    [[NASA's MAVEN Observes Martian Light Show Cau...   \n",
       "1    [[NASA Prepares to Say 'Farewell' to InSight S...   \n",
       "2    [[NASA and ESA Agree on Next Steps to Return M...   \n",
       "3    [[NASA's InSight Lander Detects Stunning Meteo...   \n",
       "4    [[NASA To Host Briefing on InSight, Mars Recon...   \n",
       "..                                                 ...   \n",
       "100  NASA's Perseverance Rover Investigates Geologi...   \n",
       "101  NASA to Host Briefing on Perseverance Mars Rov...   \n",
       "102  NASA's Perseverance Makes New Discoveries in M...   \n",
       "103  10 Years Since Landing, NASA's Curiosity Mars ...   \n",
       "104  SAM's Top 5 Discoveries Aboard NASA's Curiosit...   \n",
       "\n",
       "                                                teaser  \n",
       "0    [[For the first time in its eight years orbiti...  \n",
       "1    [[A closer look at what goes into wrapping up ...  \n",
       "2    [[The agency’s Perseverance rover will establi...  \n",
       "3    [[The agency’s lander felt the ground shake du...  \n",
       "4    [[Scientists from two Mars missions will discu...  \n",
       "..                                                 ...  \n",
       "100  The latest findings provide greater detail on ...  \n",
       "101  Members of the mission will discuss the rover’...  \n",
       "102  The rover found that Jezero Crater’s floor is ...  \n",
       "103  Despite signs of wear, the intrepid spacecraft...  \n",
       "104  “Selfie” of the Curiosity rover with inset sho...  \n",
       "\n",
       "[105 rows x 2 columns]"
      ]
     },
     "execution_count": 38,
     "metadata": {},
     "output_type": "execute_result"
    }
   ],
   "source": [
    "# Loop through the text elements\n",
    "for news in text_elements:\n",
    "# Extract the title and preview text from the elements\n",
    "    title = news.find('div', class_='content_title').text\n",
    "    teaser = news.find('div', class_='article_teaser_body').text\n",
    "#     print(title)\n",
    "#     print(teaser)\n",
    "# Store each title and preview pair in a dictionary    \n",
    "    news_dict = {\n",
    "        'title': title,\n",
    "        'teaser': teaser\n",
    "    }\n",
    "    \n",
    "# Add the dictionary to the list\n",
    "    news_list.append(news_dict)\n",
    "\n",
    "news_df = pd.DataFrame(news_list)\n",
    "news_df"
   ]
  },
  {
   "cell_type": "code",
   "execution_count": 24,
   "metadata": {},
   "outputs": [
    {
     "data": {
      "text/plain": [
       "[{'title': [<div class=\"content_title\">NASA's MAVEN Observes Martian Light Show Caused by Major Solar Storm</div>],\n",
       "  'teaser': [<div class=\"article_teaser_body\">For the first time in its eight years orbiting Mars, NASA’s MAVEN mission witnessed two different types of ultraviolet aurorae simultaneously, the result of solar storms that began on Aug. 27.</div>]},\n",
       " {'title': [<div class=\"content_title\">NASA Prepares to Say 'Farewell' to InSight Spacecraft</div>],\n",
       "  'teaser': [<div class=\"article_teaser_body\">A closer look at what goes into wrapping up the mission as the spacecraft’s power supply continues to dwindle.</div>]},\n",
       " {'title': [<div class=\"content_title\">NASA and ESA Agree on Next Steps to Return Mars Samples to Earth</div>],\n",
       "  'teaser': [<div class=\"article_teaser_body\">The agency’s Perseverance rover will establish the first sample depot on Mars.</div>]},\n",
       " {'title': [<div class=\"content_title\">NASA's InSight Lander Detects Stunning Meteoroid Impact on Mars</div>],\n",
       "  'teaser': [<div class=\"article_teaser_body\">The agency’s lander felt the ground shake during the impact while cameras aboard the Mars Reconnaissance Orbiter spotted the yawning new crater from space.</div>]},\n",
       " {'title': [<div class=\"content_title\">NASA To Host Briefing on InSight, Mars Reconnaissance Orbiter Findings</div>],\n",
       "  'teaser': [<div class=\"article_teaser_body\">Scientists from two Mars missions will discuss how they combined images and data for a major finding on the Red Planet.</div>]},\n",
       " {'title': [<div class=\"content_title\">Why NASA Is Trying To Crash Land on Mars</div>],\n",
       "  'teaser': [<div class=\"article_teaser_body\">Like a car’s crumple zone, the experimental SHIELD lander is designed to absorb a hard impact.</div>]},\n",
       " {'title': [<div class=\"content_title\">Curiosity Mars Rover Reaches Long-Awaited Salty Region</div>],\n",
       "  'teaser': [<div class=\"article_teaser_body\">After years of climbing, the Mars rover has arrived at a special region believed to have formed as Mars’ climate was drying.</div>]},\n",
       " {'title': [<div class=\"content_title\">Mars Mission Shields Up for Tests</div>],\n",
       "  'teaser': [<div class=\"article_teaser_body\">Protecting Mars Sample Return spacecraft from micrometeorites requires high-caliber work.</div>]},\n",
       " {'title': [<div class=\"content_title\">NASA's InSight Waits Out Dust Storm</div>],\n",
       "  'teaser': [<div class=\"article_teaser_body\">InSight’s team is taking steps to help the solar-powered lander continue operating for as long as possible.</div>]},\n",
       " {'title': [<div class=\"content_title\">NASA's InSight 'Hears' Its First Meteoroid Impacts on Mars</div>],\n",
       "  'teaser': [<div class=\"article_teaser_body\">The Mars lander’s seismometer has picked up vibrations from four separate impacts in the past two years.</div>]},\n",
       " {'title': [<div class=\"content_title\">NASA's Perseverance Rover Investigates Geologically Rich Mars Terrain</div>],\n",
       "  'teaser': [<div class=\"article_teaser_body\">The latest findings provide greater detail on a region of the Red Planet that has a watery past and is yielding promising samples for the NASA-ESA Mars Sample Return campaign.</div>]},\n",
       " {'title': [<div class=\"content_title\">NASA to Host Briefing on Perseverance Mars Rover Mission Operations</div>],\n",
       "  'teaser': [<div class=\"article_teaser_body\">Members of the mission will discuss the rover’s activities as it gathers samples in an ancient river delta.</div>]},\n",
       " {'title': [<div class=\"content_title\">NASA's Perseverance Makes New Discoveries in Mars' Jezero Crater</div>],\n",
       "  'teaser': [<div class=\"article_teaser_body\">The rover found that Jezero Crater’s floor is made up of volcanic rocks that have interacted with water.</div>]},\n",
       " {'title': [<div class=\"content_title\">10 Years Since Landing, NASA's Curiosity Mars Rover Still Has Drive</div>],\n",
       "  'teaser': [<div class=\"article_teaser_body\">Despite signs of wear, the intrepid spacecraft is about to start an exciting new chapter of its mission as it climbs a Martian mountain.</div>]},\n",
       " {'title': [<div class=\"content_title\">SAM's Top 5 Discoveries Aboard NASA's Curiosity Rover at Mars</div>],\n",
       "  'teaser': [<div class=\"article_teaser_body\">“Selfie” of the Curiosity rover with inset showing the SAM instrument prior to installation on the rover.</div>]}]"
      ]
     },
     "execution_count": 24,
     "metadata": {},
     "output_type": "execute_result"
    }
   ],
   "source": [
    "# Print the list to confirm success\n",
    "news_list"
   ]
  },
  {
   "cell_type": "code",
   "execution_count": 39,
   "metadata": {},
   "outputs": [],
   "source": [
    "browser.quit()"
   ]
  },
  {
   "cell_type": "code",
   "execution_count": null,
   "metadata": {},
   "outputs": [],
   "source": []
  }
 ],
 "metadata": {
  "kernelspec": {
   "display_name": "Python 3 (ipykernel)",
   "language": "python",
   "name": "python3"
  },
  "language_info": {
   "codemirror_mode": {
    "name": "ipython",
    "version": 3
   },
   "file_extension": ".py",
   "mimetype": "text/x-python",
   "name": "python",
   "nbconvert_exporter": "python",
   "pygments_lexer": "ipython3",
   "version": "3.9.13"
  }
 },
 "nbformat": 4,
 "nbformat_minor": 4
}
